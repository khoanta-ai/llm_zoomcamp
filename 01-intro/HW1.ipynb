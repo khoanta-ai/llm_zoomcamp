{
 "cells": [
  {
   "cell_type": "markdown",
   "id": "c6887554-c21c-461e-98d9-f7955824108f",
   "metadata": {},
   "source": [
    "## Q1. Running Elastic"
   ]
  },
  {
   "cell_type": "markdown",
   "id": "bcf46a6d-0a20-4eb2-a017-e68051c57ee7",
   "metadata": {},
   "source": [
    "Run Elastic Search 8.4.3, and get the cluster information. If you run it on localhost, this is how you do it:"
   ]
  },
  {
   "cell_type": "code",
   "execution_count": 1,
   "id": "559588b6-5623-45c5-a925-91f87de7c13d",
   "metadata": {},
   "outputs": [
    {
     "name": "stdout",
     "output_type": "stream",
     "text": [
      "{\n",
      "  \"name\" : \"3c7b6c8e93e8\",\n",
      "  \"cluster_name\" : \"docker-cluster\",\n",
      "  \"cluster_uuid\" : \"GeAlxVtrTWmPYegsSUILEA\",\n",
      "  \"version\" : {\n",
      "    \"number\" : \"8.4.3\",\n",
      "    \"build_flavor\" : \"default\",\n",
      "    \"build_type\" : \"docker\",\n",
      "    \"build_hash\" : \"42f05b9372a9a4a470db3b52817899b99a76ee73\",\n",
      "    \"build_date\" : \"2022-10-04T07:17:24.662462378Z\",\n",
      "    \"build_snapshot\" : false,\n",
      "    \"lucene_version\" : \"9.3.0\",\n",
      "    \"minimum_wire_compatibility_version\" : \"7.17.0\",\n",
      "    \"minimum_index_compatibility_version\" : \"7.0.0\"\n",
      "  },\n",
      "  \"tagline\" : \"You Know, for Search\"\n",
      "}\n"
     ]
    }
   ],
   "source": [
    "!curl localhost:9200"
   ]
  },
  {
   "cell_type": "markdown",
   "id": "9b5edf16-97c9-490a-b331-895ea5e1265b",
   "metadata": {},
   "source": [
    "What's the version.build_hash value?"
   ]
  },
  {
   "cell_type": "markdown",
   "id": "72792cc0-e708-491c-b890-3d634a8a0f80",
   "metadata": {},
   "source": [
    "### Answer"
   ]
  },
  {
   "cell_type": "markdown",
   "id": "20604566-fc1b-44af-ac78-ca32b565db9b",
   "metadata": {},
   "source": [
    "\"build_hash\" : \"42f05b9372a9a4a470db3b52817899b99a76ee73\""
   ]
  },
  {
   "cell_type": "markdown",
   "id": "d2a73e6c-d444-4f39-a197-838b04692171",
   "metadata": {},
   "source": [
    "## Getting the data"
   ]
  },
  {
   "cell_type": "code",
   "execution_count": 3,
   "id": "53ff1c58-c096-42ba-8b8c-a8f013bca896",
   "metadata": {},
   "outputs": [],
   "source": [
    "# !pip install requests"
   ]
  },
  {
   "cell_type": "code",
   "execution_count": 2,
   "id": "9a3d1065-c1d6-4067-b8c3-fcbea6a3ea7c",
   "metadata": {},
   "outputs": [],
   "source": [
    "import requests \n",
    "\n",
    "docs_url = 'https://github.com/DataTalksClub/llm-zoomcamp/blob/main/01-intro/documents.json?raw=1'\n",
    "docs_response = requests.get(docs_url)\n",
    "documents_raw = docs_response.json()\n",
    "\n",
    "documents = []\n",
    "\n",
    "for course in documents_raw:\n",
    "    course_name = course['course']\n",
    "\n",
    "    for doc in course['documents']:\n",
    "        doc['course'] = course_name\n",
    "        documents.append(doc)"
   ]
  },
  {
   "cell_type": "markdown",
   "id": "c685de13-9b22-42f5-a8cb-dd9d8ee6cc8c",
   "metadata": {},
   "source": [
    "## Q2. Indexing the data"
   ]
  },
  {
   "cell_type": "markdown",
   "id": "7e8f3392-7bfd-4c33-93e9-57f4c227d4d6",
   "metadata": {},
   "source": [
    "Index the data in the same way as was shown in the course videos. Make the `course` field a keyword and the rest should be text. \n",
    "\n",
    "Don't forget to install the ElasticSearch client for Python:\n",
    "\n",
    "```bash\n",
    "pip install elasticsearch\n",
    "```\n",
    "\n",
    "Which function do you use for adding your data to elastic?\n",
    "\n",
    "* `insert`\n",
    "* `index`\n",
    "* `put`\n",
    "* `add`"
   ]
  },
  {
   "cell_type": "code",
   "execution_count": 1,
   "id": "49f01d26-b121-4f8b-9984-1286c680c8c2",
   "metadata": {},
   "outputs": [],
   "source": [
    "# !pip install elasticsearch"
   ]
  },
  {
   "cell_type": "code",
   "execution_count": 3,
   "id": "cf968a3e-57b3-4bce-8cab-7db848576359",
   "metadata": {},
   "outputs": [
    {
     "name": "stderr",
     "output_type": "stream",
     "text": [
      "/usr/local/python/3.10.13/lib/python3.10/site-packages/tqdm/auto.py:21: TqdmWarning: IProgress not found. Please update jupyter and ipywidgets. See https://ipywidgets.readthedocs.io/en/stable/user_install.html\n",
      "  from .autonotebook import tqdm as notebook_tqdm\n"
     ]
    }
   ],
   "source": [
    "from tqdm.auto import tqdm\n",
    "import elasticsearch\n",
    "from elasticsearch import Elasticsearch"
   ]
  },
  {
   "cell_type": "code",
   "execution_count": 7,
   "id": "5b2f95dd-068c-4bbf-8ed9-9dac22135e16",
   "metadata": {},
   "outputs": [],
   "source": [
    "def config_elastic_search():\n",
    "    index_settings = {\n",
    "        \"settings\": {\n",
    "            \"number_of_shards\": 1,\n",
    "            \"number_of_replicas\": 0\n",
    "        },\n",
    "        \"mappings\": {\n",
    "            \"properties\": {\n",
    "                \"text\": {\"type\": \"text\"},\n",
    "                \"section\": {\"type\": \"text\"},\n",
    "                \"question\": {\"type\": \"text\"},\n",
    "                \"course\": {\"type\": \"keyword\"} \n",
    "            }\n",
    "        }\n",
    "    }\n",
    "    return index_settings\n",
    "\n",
    "\n",
    "# https://techoverflow.net/2021/08/04/how-to-fix-elasticsearch-exceptions-requesterror-requesterror400-resource_already_exists_exception-index-already-exists-in-python/\n",
    "def es_create_index_if_not_exists(es, index_name, body, documents):\n",
    "    \"\"\"Create the given ElasticSearch index and ignore error if it already exists\"\"\"\n",
    "    try:\n",
    "        es.indices.create(index=index_name, body=body)\n",
    "        for doc in tqdm(documents):\n",
    "            es.index(index=index_name, document=doc)\n",
    "    except elasticsearch.exceptions.RequestError as ex:\n",
    "        if ex.error == 'resource_already_exists_exception':\n",
    "            pass # Index already exists. Ignore.\n",
    "        else: # Other exception - raise it\n",
    "            raise ex\n",
    "\n",
    "def build_elastic_search(elasticsearch_url, documents, index_name=\"course-questions\"):\n",
    "    index_settings = config_elastic_search()\n",
    "    es_client = Elasticsearch(elasticsearch_url) \n",
    "    # es_client.indices.create(index=index_name, body=index_settings)\n",
    "    es_create_index_if_not_exists(es=es_client, index_name=index_name, \n",
    "                                  body=index_settings, documents=documents)\n",
    "    return es_client\n",
    "\n"
   ]
  },
  {
   "cell_type": "code",
   "execution_count": 9,
   "id": "e5675154-fff5-42d4-a482-667c2ccc21c2",
   "metadata": {},
   "outputs": [
    {
     "name": "stderr",
     "output_type": "stream",
     "text": [
      "100%|██████████████████████████████████████████████████████████████████████████████████| 948/948 [00:22<00:00, 42.18it/s]"
     ]
    },
    {
     "name": "stdout",
     "output_type": "stream",
     "text": [
      "CPU times: user 1.05 s, sys: 94.6 ms, total: 1.15 s\n",
      "Wall time: 23 s\n"
     ]
    },
    {
     "name": "stderr",
     "output_type": "stream",
     "text": [
      "\n"
     ]
    }
   ],
   "source": [
    "%%time\n",
    "elasticsearch_url = 'http://localhost:9200'\n",
    "index_name = \"hw1_elastic_index_name\"\n",
    "es_client = build_elastic_search(elasticsearch_url, documents, index_name)"
   ]
  },
  {
   "cell_type": "markdown",
   "id": "eb27e733-6055-4e89-b11a-32a6def6af63",
   "metadata": {},
   "source": [
    "### Answer"
   ]
  },
  {
   "cell_type": "markdown",
   "id": "b1538fa9-00db-4761-b07a-7ed15676e098",
   "metadata": {},
   "source": [
    "index"
   ]
  },
  {
   "cell_type": "markdown",
   "id": "ef9708de-d83c-4519-a1e5-a41b7ecf09d5",
   "metadata": {},
   "source": [
    "## Q3. Searching"
   ]
  },
  {
   "cell_type": "markdown",
   "id": "e25724b9-6eb2-46a8-9359-b956e1c4d4d6",
   "metadata": {},
   "source": [
    "Now let's search in our index. \n",
    "\n",
    "We will execute a query \"How do I execute a command in a running docker container?\". \n",
    "\n",
    "Use only `question` and `text` fields and give `question` a boost of 4, and use `\"type\": \"best_fields\"`.\n",
    "\n",
    "What's the score for the top ranking result?\n",
    "\n",
    "* 94.05\n",
    "* 84.05\n",
    "* 74.05\n",
    "* 64.05\n",
    "\n",
    "Look at the `_score` field."
   ]
  },
  {
   "cell_type": "code",
   "execution_count": 57,
   "id": "30a78274-1733-4e90-9af0-ef7c65634f1b",
   "metadata": {},
   "outputs": [],
   "source": [
    "def build_search_query(num_results, query, text_boost_fields, query_type, filter_dict):\n",
    "    search_query = {\n",
    "        \"size\": num_results,\n",
    "        \"query\": {\n",
    "            \"bool\": {\n",
    "                \"must\": {\n",
    "                    \"multi_match\": {\n",
    "                        \"query\": query,\n",
    "                        \"fields\": text_boost_fields,\n",
    "                        \"type\": query_type\n",
    "                    }\n",
    "                }\n",
    "            }\n",
    "        }\n",
    "    }\n",
    "\n",
    "    return search_query\n",
    "\n",
    "def elastic_search(index_name, elastic_query, es_client):\n",
    "    response = es_client.search(index=index_name, body=elastic_query)\n",
    "    result_docs = []\n",
    "    result_docs_score = []\n",
    "    for hit in tqdm(response['hits']['hits']):\n",
    "        result_docs.append(hit['_source'])\n",
    "        result_docs_score.append(hit['_score'])\n",
    "    return result_docs, result_docs_score"
   ]
  },
  {
   "cell_type": "code",
   "execution_count": 58,
   "id": "72ca3114-e07a-4648-b919-f0c10ac50a42",
   "metadata": {},
   "outputs": [
    {
     "name": "stderr",
     "output_type": "stream",
     "text": [
      "100%|███████████████████████████████████████████████████████████████████████████████████| 5/5 [00:00<00:00, 95325.09it/s]\n"
     ]
    }
   ],
   "source": [
    "query = 'How do I execute a command in a running docker container?'\n",
    "\n",
    "num_results = 5\n",
    "text_boost_fields = [\"question^4\", \"text\"]\n",
    "query_type = \"best_fields\"\n",
    "# keyword_fields = [\"course\"]\n",
    "# filter_dict = {'course': 'data-engineering-zoomcamp'}\n",
    "elastic_query = build_search_query(num_results=num_results, query=query, \n",
    "                                       text_boost_fields=text_boost_fields,\n",
    "                                       query_type=query_type,filter_dict=filter_dict)\n",
    "elastic_results, result_docs_score = elastic_search(index_name, elastic_query, es_client)\n"
   ]
  },
  {
   "cell_type": "code",
   "execution_count": 59,
   "id": "83f242cb-858e-4572-a969-395abc843f28",
   "metadata": {},
   "outputs": [
    {
     "data": {
      "text/plain": [
       "[84.050095, 75.54128, 72.08518, 51.04628, 49.938507]"
      ]
     },
     "execution_count": 59,
     "metadata": {},
     "output_type": "execute_result"
    }
   ],
   "source": [
    "result_docs_score"
   ]
  },
  {
   "cell_type": "markdown",
   "id": "c8b25fb5-eac4-486c-864c-86d90ecf5608",
   "metadata": {},
   "source": [
    "### Answer"
   ]
  },
  {
   "cell_type": "markdown",
   "id": "a89acfe7-65e8-45a6-bf59-2dc53f53e950",
   "metadata": {},
   "source": [
    "84.05"
   ]
  },
  {
   "cell_type": "markdown",
   "id": "ac59903b-4915-4ce7-8ce3-f2cc1ce83b62",
   "metadata": {},
   "source": [
    "## Q4. Filtering"
   ]
  },
  {
   "cell_type": "markdown",
   "id": "f7f94974-fbf3-4554-a122-564633bb8089",
   "metadata": {},
   "source": [
    "\n",
    "Now let's only limit the questions to `machine-learning-zoomcamp`.\n",
    "\n",
    "Return 3 results. What's the 3rd question returned by the search engine?\n",
    "\n",
    "* How do I debug a docker container?\n",
    "* How do I copy files from a different folder into docker container’s working directory?\n",
    "* How do Lambda container images work?\n",
    "* How can I annotate a graph?"
   ]
  },
  {
   "cell_type": "code",
   "execution_count": 119,
   "id": "e0087161-a1fe-4429-80cd-40216b92e06a",
   "metadata": {},
   "outputs": [],
   "source": [
    "def build_search_query(num_results, query, text_boost_fields, query_type, filter_dict):\n",
    "    search_query = {\n",
    "        \"size\": num_results,\n",
    "        \"query\": {\n",
    "            \"bool\": {\n",
    "                \"must\": {\n",
    "                    \"multi_match\": {\n",
    "                        \"query\": query,\n",
    "                        \"fields\": text_boost_fields,\n",
    "                        \"type\": query_type\n",
    "                    }\n",
    "                },\n",
    "                \"filter\": {\n",
    "                    \"term\": filter_dict\n",
    "                }\n",
    "            }\n",
    "        }\n",
    "    }\n",
    "\n",
    "    return search_query"
   ]
  },
  {
   "cell_type": "code",
   "execution_count": 120,
   "id": "ce282e73-9768-4e8d-af2c-b6dfc783f74e",
   "metadata": {},
   "outputs": [
    {
     "name": "stderr",
     "output_type": "stream",
     "text": [
      "100%|███████████████████████████████████████████████████████████████████████████████████| 3/3 [00:00<00:00, 36157.79it/s]\n"
     ]
    }
   ],
   "source": [
    "query = 'How do I execute a command in a running docker container?'\n",
    "\n",
    "num_results = 3\n",
    "text_boost_fields = [\"question^4\", \"text\"]\n",
    "query_type = \"best_fields\"\n",
    "# keyword_fields = [\"course\"]\n",
    "filter_dict = {'course': 'machine-learning-zoomcamp'}\n",
    "elastic_query = build_search_query(num_results=num_results, query=query, \n",
    "                                       text_boost_fields=text_boost_fields,\n",
    "                                       query_type=query_type,filter_dict=filter_dict)\n",
    "elastic_results, result_docs_score = elastic_search(index_name, elastic_query, es_client)\n"
   ]
  },
  {
   "cell_type": "code",
   "execution_count": 121,
   "id": "a0cc26f1-b687-4719-8426-a2e1dc954458",
   "metadata": {},
   "outputs": [
    {
     "data": {
      "text/plain": [
       "'How do I debug a docker container?'"
      ]
     },
     "execution_count": 121,
     "metadata": {},
     "output_type": "execute_result"
    }
   ],
   "source": [
    "elastic_results[0]['question']"
   ]
  },
  {
   "cell_type": "code",
   "execution_count": 122,
   "id": "f67e9a81-ccc7-4b61-ae16-3f7493b781a8",
   "metadata": {},
   "outputs": [
    {
     "data": {
      "text/plain": [
       "'How do I copy files from my local machine to docker container?'"
      ]
     },
     "execution_count": 122,
     "metadata": {},
     "output_type": "execute_result"
    }
   ],
   "source": [
    "elastic_results[1]['question']"
   ]
  },
  {
   "cell_type": "code",
   "execution_count": 123,
   "id": "d6c5afca-79ff-4426-94df-d923c430f630",
   "metadata": {},
   "outputs": [
    {
     "data": {
      "text/plain": [
       "'How do I copy files from a different folder into docker container’s working directory?'"
      ]
     },
     "execution_count": 123,
     "metadata": {},
     "output_type": "execute_result"
    }
   ],
   "source": [
    "elastic_results[2]['question']"
   ]
  },
  {
   "cell_type": "markdown",
   "id": "95a6083b-1ef5-4ae5-9bb5-3e5c9d829782",
   "metadata": {},
   "source": [
    "### Answer"
   ]
  },
  {
   "cell_type": "markdown",
   "id": "0d496c4c-71f0-456a-9fa1-cec7c1941619",
   "metadata": {},
   "source": [
    "3. 'How do I copy files from a different folder into docker container’s working directory?'"
   ]
  },
  {
   "cell_type": "markdown",
   "id": "61ea28ab-0dfb-4675-be50-2f13e574d05f",
   "metadata": {},
   "source": [
    "## Q5. Building a prompt"
   ]
  },
  {
   "cell_type": "markdown",
   "id": "8f9e05a8-6d84-42b9-9251-985e9f9f42da",
   "metadata": {},
   "source": [
    "Now we're ready to build a prompt to send to an LLM. \n",
    "\n",
    "Take the records returned from Elasticsearch in Q4 and use this template to build the context. Separate context entries by two linebreaks (`\\n\\n`)\n",
    "```python\n",
    "context_template = \"\"\"\n",
    "Q: {question}\n",
    "A: {text}\n",
    "\"\"\".strip()\n",
    "```\n",
    "\n",
    "Now use the context you just created along with the \"How do I execute a command in a running docker container?\" question \n",
    "to construct a prompt using the template below:\n",
    "\n",
    "```\n",
    "prompt_template = \"\"\"\n",
    "You're a course teaching assistant. Answer the QUESTION based on the CONTEXT from the FAQ database.\n",
    "Use only the facts from the CONTEXT when answering the QUESTION.\n",
    "\n",
    "QUESTION: {question}\n",
    "\n",
    "CONTEXT:\n",
    "{context}\n",
    "\"\"\".strip()\n",
    "```\n",
    "\n",
    "What's the length of the resulting prompt? (use the `len` function)\n",
    "\n",
    "* 962\n",
    "* 1462\n",
    "* 1962\n",
    "* 2462"
   ]
  },
  {
   "cell_type": "code",
   "execution_count": 137,
   "id": "78a5b4d7-df3d-4916-b59e-523bfd10b9e4",
   "metadata": {},
   "outputs": [],
   "source": [
    "def build_prompt(query, search_results):\n",
    "    prompt_template = \"\"\"\n",
    "You're a course teaching assistant. Answer the QUESTION based on the CONTEXT from the FAQ database.\n",
    "Use only the facts from the CONTEXT when answering the QUESTION.\n",
    "\n",
    "QUESTION: {question}\n",
    "\n",
    "CONTEXT: \n",
    "{context}\n",
    "\"\"\".strip()\n",
    "    \n",
    "    context = \"\"\n",
    "    for doc in search_results:\n",
    "        context = context + f\"Q: {doc['question']}\\nA: {doc['text']}\\n\\n\"\n",
    "    prompt = prompt_template.format(question=query, context=context).strip()\n",
    "    return prompt"
   ]
  },
  {
   "cell_type": "code",
   "execution_count": 138,
   "id": "631e373a-2a08-4275-97b2-47f5643aceeb",
   "metadata": {},
   "outputs": [],
   "source": [
    "prompt = build_prompt(query=query, search_results=elastic_results)"
   ]
  },
  {
   "cell_type": "code",
   "execution_count": 139,
   "id": "3156dc23-6236-4322-bb2f-657ae8ed9f7f",
   "metadata": {},
   "outputs": [
    {
     "data": {
      "text/plain": [
       "1463"
      ]
     },
     "execution_count": 139,
     "metadata": {},
     "output_type": "execute_result"
    }
   ],
   "source": [
    "len(prompt)"
   ]
  },
  {
   "cell_type": "markdown",
   "id": "bc516ca2-3278-4e06-9168-abdab6579b52",
   "metadata": {},
   "source": [
    "### Answer"
   ]
  },
  {
   "cell_type": "markdown",
   "id": "5ea71dd3-c679-4886-a87d-84257fee9649",
   "metadata": {},
   "source": [
    "1462"
   ]
  },
  {
   "cell_type": "markdown",
   "id": "622ed927-6552-423e-8640-5c5408206fac",
   "metadata": {},
   "source": [
    "## Q6. Tokens"
   ]
  },
  {
   "cell_type": "markdown",
   "id": "24ac36c2-c7dd-4bbb-bd6f-81bed7e19db6",
   "metadata": {},
   "source": [
    "When we use the OpenAI Platform, we're charged by the number of \n",
    "tokens we send in our prompt and receive in the response.\n",
    "\n",
    "The OpenAI python package uses `tiktoken` for tokenization:\n",
    "\n",
    "```bash\n",
    "pip install tiktoken\n",
    "```\n",
    "\n",
    "Let's calculate the number of tokens in our query: \n",
    "\n",
    "```python\n",
    "encoding = tiktoken.encoding_for_model(\"gpt-4o\")\n",
    "```\n",
    "\n",
    "Use the `encode` function. How many tokens does our prompt have?\n",
    "\n",
    "* 122\n",
    "* 222\n",
    "* 322\n",
    "* 422\n",
    "\n",
    "Note: to decode back a token into a word, you can use the `decode_single_token_bytes` function:\n",
    "\n",
    "```python\n",
    "encoding.decode_single_token_bytes(63842)"
   ]
  },
  {
   "cell_type": "code",
   "execution_count": 140,
   "id": "bc26298c-353b-49eb-a64b-a3f0d998898f",
   "metadata": {},
   "outputs": [],
   "source": [
    "# !pip install tiktoken"
   ]
  },
  {
   "cell_type": "code",
   "execution_count": 141,
   "id": "9db82537-8843-40e8-9c67-a46cb43c3406",
   "metadata": {},
   "outputs": [],
   "source": [
    "import tiktoken"
   ]
  },
  {
   "cell_type": "code",
   "execution_count": 142,
   "id": "f7e69256-305f-4222-b813-48d03711b82e",
   "metadata": {},
   "outputs": [],
   "source": [
    "encoding = tiktoken.encoding_for_model(\"gpt-4o\")"
   ]
  },
  {
   "cell_type": "code",
   "execution_count": 143,
   "id": "30ebf616-2593-4947-9d66-fe725cb17820",
   "metadata": {},
   "outputs": [
    {
     "data": {
      "text/plain": [
       "323"
      ]
     },
     "execution_count": 143,
     "metadata": {},
     "output_type": "execute_result"
    }
   ],
   "source": [
    "len(encoding.encode(prompt))"
   ]
  },
  {
   "cell_type": "markdown",
   "id": "44bb80c2-3a80-46ca-ab5d-3badc2d89aee",
   "metadata": {},
   "source": [
    "### Answer"
   ]
  },
  {
   "cell_type": "markdown",
   "id": "da1b7b73-d56c-4ab6-9214-f29a07f57855",
   "metadata": {},
   "source": [
    "322"
   ]
  },
  {
   "cell_type": "markdown",
   "id": "96eb4389-ace5-43ff-a7cb-e2b48e8e18a2",
   "metadata": {},
   "source": [
    "## Bonus: generating the answer (ungraded)"
   ]
  },
  {
   "cell_type": "markdown",
   "id": "32a0caa5-6504-4341-ac59-a30108473275",
   "metadata": {},
   "source": [
    "Let's send the prompt to OpenAI. What's the response?  \n",
    "\n",
    "Note: you can replace OpenAI with Ollama. See module 2."
   ]
  },
  {
   "cell_type": "code",
   "execution_count": 144,
   "id": "05c33172-5d26-48d1-914b-fd3d628f87bd",
   "metadata": {},
   "outputs": [],
   "source": [
    "from openai import OpenAI\n"
   ]
  },
  {
   "cell_type": "code",
   "execution_count": 146,
   "id": "da9f565d-4c25-43f4-8cd1-747b2aeeff5c",
   "metadata": {},
   "outputs": [],
   "source": [
    "def build_llm(base_url, api_key):\n",
    "    client = OpenAI(\n",
    "        base_url=base_url,\n",
    "        api_key=api_key\n",
    "    )\n",
    "    return client\n",
    "\n",
    "\n",
    "def query_llm(prompt, client, model_name):\n",
    "    response = client.chat.completions.create(\n",
    "        model=model_name,\n",
    "        messages=[{'role':'user', 'content':prompt}]\n",
    "    )\n",
    "    return response.choices[0].message.content\n"
   ]
  },
  {
   "cell_type": "code",
   "execution_count": 147,
   "id": "5b8d278f-ef13-4549-bb71-69651e35c6d2",
   "metadata": {},
   "outputs": [],
   "source": [
    "base_url = 'http://localhost:11434/v1/'\n",
    "api_key = 'ollama'\n",
    "model_name = 'phi3'\n",
    "phi3_client = build_llm(base_url, api_key)\n",
    "response_res = query_llm(prompt=prompt, client=phi3_client, model_name=model_name)"
   ]
  },
  {
   "cell_type": "code",
   "execution_count": 148,
   "id": "6c75a235-ca15-48ee-9e91-74383a9f05f1",
   "metadata": {},
   "outputs": [
    {
     "data": {
      "text/plain": [
       "\" To execute a command in a running docker container, you can use the `docker exec` command followed by the `-it` flag for interactive mode and the specific container ID. For example:\\n\\n```bash\\ndocker exec -it <container-id> <command>\\n```\\n\\nReplace `<container-id>` with your actual container's unique identifier (found using `docker ps`) and `<command>` with the command you wish to execute within the container.\""
      ]
     },
     "execution_count": 148,
     "metadata": {},
     "output_type": "execute_result"
    }
   ],
   "source": [
    "response_res"
   ]
  },
  {
   "cell_type": "markdown",
   "id": "17ba2b13-9a5f-4f8f-a377-0eb798d09c2e",
   "metadata": {},
   "source": [
    "### Answer"
   ]
  },
  {
   "cell_type": "markdown",
   "id": "c32dd131-2a3d-4c84-b125-07a7b504a4fa",
   "metadata": {},
   "source": [
    "\" To execute a command in a running docker container, you can use the `docker exec` command followed by the `-it` flag for interactive mode and the specific container ID. For example:\\n\\n```bash\\ndocker exec -it <container-id> <command>\\n```\\n\\nReplace `<container-id>` with your actual container's unique identifier (found using `docker ps`) and `<command>` with the command you wish to execute within the container.\""
   ]
  },
  {
   "cell_type": "markdown",
   "id": "1cdf9ac2-2a6a-47db-bac5-a41d64f08ca5",
   "metadata": {},
   "source": [
    "## Bonus: calculating the costs (ungraded)"
   ]
  },
  {
   "cell_type": "markdown",
   "id": "be98b674-6df2-49ad-8109-c38050f9bafe",
   "metadata": {},
   "source": [
    "Suppose that on average per request we send 150 tokens and receive back 250 tokens.\n",
    "\n",
    "How much will it cost to run 1000 requests?\n",
    "\n",
    "You can see the prices [here](https://openai.com/api/pricing/)\n",
    "\n",
    "On June 17, the prices for gpt4o are:\n",
    "\n",
    "* Input: $0.005 / 1K tokens\n",
    "\n",
    "* Output: $0.015 / 1K tokens\n",
    "\n",
    "You can redo the calculations with the values you got in Q6 and Q7."
   ]
  },
  {
   "cell_type": "code",
   "execution_count": 155,
   "id": "98c80e9b-a7db-4e1c-b722-d77680ee5ac7",
   "metadata": {},
   "outputs": [],
   "source": [
    "def cal_price(num_in, num_out, num_req):\n",
    "    in_price_ratio = 0.005/1000\n",
    "    out_price_ratio = 0.015/1000\n",
    "    total = num_req*(in_price_ratio*num_in + out_price_ratio*num_out)\n",
    "    print(\"total: $\", total)"
   ]
  },
  {
   "cell_type": "markdown",
   "id": "03b5f5ae-75df-4aa2-802b-15a015ffdd12",
   "metadata": {},
   "source": [
    "### Answer"
   ]
  },
  {
   "cell_type": "code",
   "execution_count": 156,
   "id": "05c5f245-9739-4181-a7f3-cdf6bff0b819",
   "metadata": {},
   "outputs": [
    {
     "name": "stdout",
     "output_type": "stream",
     "text": [
      "total: $ 4.5\n"
     ]
    }
   ],
   "source": [
    "cal_price(num_in=150, num_out=250, num_req=1000)"
   ]
  },
  {
   "cell_type": "code",
   "execution_count": 157,
   "id": "17f13360-856c-4776-acf8-02e9d6f7d878",
   "metadata": {},
   "outputs": [
    {
     "name": "stdout",
     "output_type": "stream",
     "text": [
      "total: $ 0.00295\n"
     ]
    }
   ],
   "source": [
    "num_prompt_tokens = len(encoding.encode(prompt))\n",
    "num_res_tokens = len(encoding.encode(response_res))\n",
    "cal_price(num_in=num_prompt_tokens, num_out=num_res_tokens, num_req=1)"
   ]
  },
  {
   "cell_type": "markdown",
   "id": "a33d5a4c-aaf9-4fd0-ae65-64c0ef456217",
   "metadata": {},
   "source": [
    "## Submit the results"
   ]
  },
  {
   "cell_type": "markdown",
   "id": "74b910a7-c0ce-4f8b-b695-5c6022015e6f",
   "metadata": {},
   "source": [
    "* Submit your results here: https://courses.datatalks.club/llm-zoomcamp-2024/homework/hw1\n",
    "\n",
    "* It's possible that your answers won't match exactly. If it's the case, select the closest one."
   ]
  },
  {
   "cell_type": "code",
   "execution_count": null,
   "id": "c99e9d6b-a8b4-4e76-8873-fa7fbcce480d",
   "metadata": {},
   "outputs": [],
   "source": []
  }
 ],
 "metadata": {
  "kernelspec": {
   "display_name": "Python 3 (ipykernel)",
   "language": "python",
   "name": "python3"
  },
  "language_info": {
   "codemirror_mode": {
    "name": "ipython",
    "version": 3
   },
   "file_extension": ".py",
   "mimetype": "text/x-python",
   "name": "python",
   "nbconvert_exporter": "python",
   "pygments_lexer": "ipython3",
   "version": "3.10.13"
  }
 },
 "nbformat": 4,
 "nbformat_minor": 5
}
